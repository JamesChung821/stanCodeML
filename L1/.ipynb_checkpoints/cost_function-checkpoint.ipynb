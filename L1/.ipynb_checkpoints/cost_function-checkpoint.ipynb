{
 "cells": [
  {
   "cell_type": "code",
   "execution_count": null,
   "metadata": {},
   "outputs": [],
   "source": [
    "# File: cost_function.ipynb\n",
    "# Name: \n",
    "# ---------------------------------\n",
    "# This file gets students familiar with jupyter notebook.\n",
    "# Jupyter is a cell-based interactive computing app that\n",
    "# allows you to see results immediately by pressing 'shift'\n",
    "# and 'return' at the same time."
   ]
  },
  {
   "cell_type": "code",
   "execution_count": 1,
   "metadata": {},
   "outputs": [],
   "source": [
    "import matplotlib.pyplot as plt\n",
    "import numpy as np"
   ]
  },
  {
   "cell_type": "code",
   "execution_count": 2,
   "metadata": {},
   "outputs": [],
   "source": [
    "# ------------------ Initialize Data Points ------------------ #\n",
    "x = [6.1101,5.5277,8.5186,7.0032,5.8598,8.3829,7.4764,8.5781,6.4862,5.0546,5.7107,10.164,5.734,8.4084,5.6407,5.3794,6.3654,5.1301,6.4296,7.0708,6.1891]\n",
    "y = [6.592,9.1302,13.662,11.854,6.8233,11.886,4.3483,12,6.5987,3.8166,3.2522,15.505,3.1551,7.2258,0.71618,3.5129,5.3048,0.56077,3.6518,5.3893,3.1386]\n",
    "# ------------------ Initialize Data Points ------------------ #"
   ]
  },
  {
   "cell_type": "code",
   "execution_count": null,
   "metadata": {},
   "outputs": [],
   "source": [
    "# ------------------ Visualize Data Points ------------------ #\n",
    "plt.scatter(x, y)\n",
    "axes = plt.gca()\n",
    "axes.set_xlim([0,12])\n",
    "axes.set_ylim([0,30])\n",
    "# ------------------ Visualize Data Points ------------------ #"
   ]
  },
  {
   "cell_type": "code",
   "execution_count": null,
   "metadata": {},
   "outputs": [],
   "source": []
  },
  {
   "cell_type": "code",
   "execution_count": 60,
   "metadata": {},
   "outputs": [],
   "source": [
    "# --------------------- TODO1: --------------------- #\n",
    "# What is the predict data new_y1 for model y = x?\n",
    "\n",
    "x = [6.1101,5.5277,8.5186,7.0032,5.8598,8.3829,7.4764,8.5781,6.4862,5.0546,5.7107,10.164,5.734,8.4084,5.6407,5.3794,6.3654,5.1301,6.4296,7.0708,6.1891]\n",
    "# predict_y1 = x.copy()\n",
    "predict_y1 = x[:]\n",
    "# predict_y1 = list(ele for ele in x) # python commend\n",
    "\n",
    "# --------------------- TODO1: --------------------- #"
   ]
  },
  {
   "cell_type": "code",
   "execution_count": 61,
   "metadata": {},
   "outputs": [
    {
     "data": {
      "image/png": "[encoded data removed]",
      "text/plain": [
       "<Figure size 432x288 with 1 Axes>"
      ]
     },
     "metadata": {
      "needs_background": "light"
     },
     "output_type": "display_data"
    }
   ],
   "source": [
    "# ------------------ Visualize prediction your model ------------------ #\n",
    "plt.scatter(x, y)\n",
    "axes = plt.gca()\n",
    "axes.set_xlim([0,12])\n",
    "axes.set_ylim([0,30])\n",
    "x_plot = np.linspace(0, 12, 140)\n",
    "y_plot = 1*x_plot\n",
    "plt.scatter(x_plot, y_plot, s=8, color='red')\n",
    "plt.scatter(x, y, color='blue')\n",
    "plt.title(\"Model y=x\", color='red', fontdict = {'fontsize': 20})\n",
    "plt.show()\n",
    "# ------------------ Visualize Data Points and your model ------------------ #"
   ]
  },
  {
   "cell_type": "code",
   "execution_count": null,
   "metadata": {},
   "outputs": [],
   "source": []
  },
  {
   "cell_type": "code",
   "execution_count": 93,
   "metadata": {},
   "outputs": [],
   "source": [
    "# --------------------- TODO2: --------------------- #\n",
    "# Can you define a cost function for your models?\n",
    "\n",
    "def cost_function(predict_y, y):\n",
    "    \"\"\"\n",
    "    : param predict_y: list, a list of predictions that are given by your model\n",
    "    : param y: list, a list of real data values\n",
    "    : return: float, the mean of losses\n",
    "    \"\"\"\n",
    "    sum_ = 0\n",
    "    for i in range(len(y)):\n",
    "        loss = (predict_y[i]-y[i])**2\n",
    "        sum_ += loss\n",
    "    return sum_/(2*len(y))\n",
    "#     return sum(((predict_y[i] - y[i])**2) for i in range(len(y)))/(2*len(y)) # notibility 49:00\n",
    "\n",
    "# --------------------- TODO2: --------------------- #"
   ]
  },
  {
   "cell_type": "code",
   "execution_count": 94,
   "metadata": {},
   "outputs": [
    {
     "name": "stdout",
     "output_type": "stream",
     "text": [
      "5.0390979628404775\n"
     ]
    }
   ],
   "source": [
    "# You should see 5.0390979628404775\n",
    "\n",
    "print(cost_function(predict_y1, y))"
   ]
  },
  {
   "cell_type": "code",
   "execution_count": null,
   "metadata": {},
   "outputs": [],
   "source": []
  },
  {
   "cell_type": "code",
   "execution_count": 98,
   "metadata": {},
   "outputs": [],
   "source": [
    "# --------------------- TODO3: --------------------- #\n",
    "# What is the predict data predict_y2 for model y = 2?\n",
    "\n",
    "x = [6.1101,5.5277,8.5186,7.0032,5.8598,8.3829,7.4764,8.5781,6.4862,5.0546,5.7107,10.164,5.734,8.4084,5.6407,5.3794,6.3654,5.1301,6.4296,7.0708,6.1891]\n",
    "# predict_y2 = [2]*len(x) # only python can be applied\n",
    "predict_y2 = list(2 for i in range(len(x)))\n",
    "\n",
    "# --------------------- TODO3: --------------------- #"
   ]
  },
  {
   "cell_type": "code",
   "execution_count": 73,
   "metadata": {},
   "outputs": [
    {
     "data": {
      "image/png": "[encoded data removed]",
      "text/plain": [
       "<Figure size 432x288 with 1 Axes>"
      ]
     },
     "metadata": {
      "needs_background": "light"
     },
     "output_type": "display_data"
    }
   ],
   "source": [
    "# ------------------ Visualize prediction of your model ------------------ #\n",
    "plt.scatter(x, y)\n",
    "axes = plt.gca()\n",
    "axes.set_xlim([0,12])\n",
    "axes.set_ylim([0,30])\n",
    "x_plot = np.linspace(0, 12, 140)\n",
    "y_plot = [2] * len(x_plot)\n",
    "plt.scatter(x_plot, y_plot, s=8, color='red')\n",
    "plt.scatter(x, y, color='blue')\n",
    "plt.title(\"Model y=2\", color='red', fontdict = {'fontsize': 20})\n",
    "plt.show()\n",
    "# ------------------ Visualize Data Points and your model ------------------ #"
   ]
  },
  {
   "cell_type": "code",
   "execution_count": 74,
   "metadata": {},
   "outputs": [
    {
     "name": "stdout",
     "output_type": "stream",
     "text": [
      "19.07210024965\n"
     ]
    }
   ],
   "source": [
    "# You should see 19.0721002497\n",
    "\n",
    "print(cost_function(predict_y2, y))"
   ]
  },
  {
   "cell_type": "code",
   "execution_count": null,
   "metadata": {},
   "outputs": [],
   "source": []
  },
  {
   "cell_type": "code",
   "execution_count": 257,
   "metadata": {},
   "outputs": [],
   "source": [
    "# SLOPE = 1.0353958973000743\n",
    "# SLOPE = 1.0353963539635396"
   ]
  },
  {
   "cell_type": "code",
   "execution_count": 258,
   "metadata": {},
   "outputs": [],
   "source": [
    "# --------------------- TODO4: --------------------- #\n",
    "# Can you figure out a model that can obtain a smaller cost than model1?\n",
    "\n",
    "# Your model: y = SLOPE * x\n",
    "\n",
    "x = [6.1101,5.5277,8.5186,7.0032,5.8598,8.3829,7.4764,8.5781,6.4862,5.0546,5.7107,10.164,5.734,8.4084,5.6407,5.3794,6.3654,5.1301,6.4296,7.0708,6.1891]\n",
    "your_predict_y = list((SLOPE * x[i]) for i in range(len(x)))\n",
    "\n",
    "\n",
    "# --------------------- TODO4: --------------------- #"
   ]
  },
  {
   "cell_type": "code",
   "execution_count": 184,
   "metadata": {},
   "outputs": [
    {
     "data": {
      "image/png": "[encoded data removed]",
      "text/plain": [
       "<Figure size 432x288 with 1 Axes>"
      ]
     },
     "metadata": {
      "needs_background": "light"
     },
     "output_type": "display_data"
    }
   ],
   "source": [
    "# ------------------ Visualize prediction of your model ------------------ #\n",
    "plt.scatter(x, y)\n",
    "axes = plt.gca()\n",
    "axes.set_xlim([0,12])\n",
    "axes.set_ylim([0,30])\n",
    "x_plot = np.linspace(0, 12, 140)\n",
    "y_plot = SLOPE * x_plot\n",
    "plt.scatter(x_plot, y_plot, s=8, color='red')\n",
    "plt.scatter(x, y, color='blue')\n",
    "plt.title(f\"Model y={SLOPE}x\", color='red', fontdict = {'fontsize': 20})\n",
    "plt.show()\n",
    "# ------------------ Visualize Data Points and your model ------------------ #"
   ]
  },
  {
   "cell_type": "code",
   "execution_count": 259,
   "metadata": {},
   "outputs": [
    {
     "name": "stdout",
     "output_type": "stream",
     "text": [
      "[Cost for y=x]\n",
      "5.0390979628404775\n",
      "\n",
      "\n",
      "[Cost for your model y=1.0353963539635396x]\n",
      "5.009627415898047\n",
      "\n",
      "\n",
      "Your model won 😆!!!!\n"
     ]
    }
   ],
   "source": [
    "print('[Cost for y=x]')\n",
    "print(cost_function(predict_y1, y))\n",
    "\n",
    "print(f'\\n\\n[Cost for your model y={SLOPE}x]')\n",
    "print(cost_function(your_predict_y, y))\n",
    "\n",
    "if cost_function(predict_y1, y) > cost_function(your_predict_y, y):\n",
    "    print('\\n\\nYour model won 😆!!!!')\n",
    "else:\n",
    "    print('\\n\\nOops... You lost 😭 Keep trying!!')"
   ]
  },
  {
   "cell_type": "code",
   "execution_count": 262,
   "metadata": {},
   "outputs": [
    {
     "name": "stdout",
     "output_type": "stream",
     "text": [
      "Cost: 5.009627415893325, Slope: 1.0353958539585397\n"
     ]
    }
   ],
   "source": [
    "slope_ = np.linspace(1.03, 1.04, 100000)\n",
    "cost = np.array([])\n",
    "min_slope = np.array([])\n",
    "for slope in slope_:\n",
    "    your_predict_y_ = np.array([(slope * x[i]) for i in range(len(x))])\n",
    "    cost = np.append(cost, (np.min(cost_function(your_predict_y_, y))))\n",
    "    min_slope = np.append(min_slope, slope)\n",
    "print(f'Cost: {np.min(cost)}, Slope: {min_slope[np.where(cost == np.min(cost))][0]}')\n",
    "    "
   ]
  },
  {
   "cell_type": "code",
   "execution_count": null,
   "metadata": {},
   "outputs": [],
   "source": []
  },
  {
   "cell_type": "code",
   "execution_count": null,
   "metadata": {},
   "outputs": [],
   "source": []
  }
 ],
 "metadata": {
  "kernelspec": {
   "display_name": "Python 3",
   "language": "python",
   "name": "python3"
  },
  "language_info": {
   "codemirror_mode": {
    "name": "ipython",
    "version": 3
   },
   "file_extension": ".py",
   "mimetype": "text/x-python",
   "name": "python",
   "nbconvert_exporter": "python",
   "pygments_lexer": "ipython3",
   "version": "3.9.1"
  }
 },
 "nbformat": 4,
 "nbformat_minor": 4
}
