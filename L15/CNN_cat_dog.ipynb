{
 "cells": [
  {
   "cell_type": "code",
   "execution_count": null,
   "metadata": {
    "colab": {
     "base_uri": "https://localhost:8080/"
    },
    "executionInfo": {
     "elapsed": 20194,
     "status": "ok",
     "timestamp": 1615887015483,
     "user": {
      "displayName": "stanCode標準程式教育機構",
      "photoUrl": "https://lh3.googleusercontent.com/a-/AOh14GhEXNEf8CuikK9lo_S6uoGBFySnbTpVXF0hGf8r=s64",
      "userId": "17922542024282624619"
     },
     "user_tz": -480
    },
    "id": "jczvfhGmMu6F",
    "outputId": "f2f8a7ed-8491-4af0-d45c-459870e5943b"
   },
   "outputs": [],
   "source": [
    "# this mounts your Google Drive to the Colab VM.\n",
    "from google.colab import drive\n",
    "drive.mount('/content/drive', force_remount=True)"
   ]
  },
  {
   "cell_type": "code",
   "execution_count": null,
   "metadata": {
    "id": "ucRp8G7bM1j0"
   },
   "outputs": [],
   "source": [
    "# 請輸入資料夾之所在位置\n",
    "FOLDERNAME = 'Colab\\ Notebooks/SC201_L15'\n",
    "assert FOLDERNAME is not None, \"[!] Enter the foldername.\""
   ]
  },
  {
   "cell_type": "code",
   "execution_count": null,
   "metadata": {
    "id": "eo7ZOxm5NEcP"
   },
   "outputs": [],
   "source": []
  },
  {
   "cell_type": "code",
   "execution_count": null,
   "metadata": {
    "id": "yLu5SxTjNF_9"
   },
   "outputs": [],
   "source": [
    "%cd drive/MyDrive/$FOLDERNAME\n",
    "BATCH_SIZE = 64"
   ]
  },
  {
   "cell_type": "code",
   "execution_count": null,
   "metadata": {},
   "outputs": [],
   "source": []
  },
  {
   "cell_type": "code",
   "execution_count": null,
   "metadata": {},
   "outputs": [],
   "source": [
    "# Calculate the mean/std for Training Dataset\n",
    "# You will see the mean/std of your data at the end of this cell\n",
    "\"\"\"\n",
    "import torchvision.datasets as dset\n",
    "from torch.utils.data import DataLoader\n",
    "import torchvision.transforms as T\n",
    "\n",
    "transform = T.Compose([T.Resize((64, 64)), T.ToTensor()])\n",
    "training_set = dset.ImageFolder('train/', transform=transform)\n",
    "train_loader = DataLoader(training_set, batch_size=len(training_set))\n",
    "images, labels = next(iter(train_loader))\n",
    "mean = images.mean()\n",
    "std = images.std()\n",
    "\"\"\""
   ]
  },
  {
   "cell_type": "code",
   "execution_count": null,
   "metadata": {},
   "outputs": [],
   "source": []
  },
  {
   "cell_type": "code",
   "execution_count": null,
   "metadata": {
    "id": "Z4rwK0MHNGLH"
   },
   "outputs": [],
   "source": []
  },
  {
   "cell_type": "code",
   "execution_count": null,
   "metadata": {
    "id": "sLQ0VIZNNhwh"
   },
   "outputs": [],
   "source": [
    "import torch\n",
    "mean = torch.tensor(0.4492)\n",
    "std = torch.tensor(0.2480)\n",
    "# Data Pre-processing by PyTorch\n",
    "# import ..."
   ]
  },
  {
   "cell_type": "code",
   "execution_count": null,
   "metadata": {
    "id": "Fb6MXF27PF9s"
   },
   "outputs": [],
   "source": []
  },
  {
   "cell_type": "code",
   "execution_count": null,
   "metadata": {
    "id": "rPBYH3uTPGCM"
   },
   "outputs": [],
   "source": [
    "%ls\n",
    "# Load Your Data by PyTorch\n",
    "# import ..."
   ]
  },
  {
   "cell_type": "code",
   "execution_count": null,
   "metadata": {
    "id": "ReCciw_ZPLKs"
   },
   "outputs": [],
   "source": []
  },
  {
   "cell_type": "code",
   "execution_count": null,
   "metadata": {
    "id": "1u9uIPpCPLS5"
   },
   "outputs": [],
   "source": [
    "# Create Mini-batches by PyTorch\n",
    "mini_trains = None\n",
    "mini_vals = None\n",
    "# import ..."
   ]
  },
  {
   "cell_type": "code",
   "execution_count": null,
   "metadata": {
    "id": "NYM-Yo9TPPM-"
   },
   "outputs": [],
   "source": []
  },
  {
   "cell_type": "code",
   "execution_count": null,
   "metadata": {
    "colab": {
     "base_uri": "https://localhost:8080/"
    },
    "executionInfo": {
     "elapsed": 4792,
     "status": "ok",
     "timestamp": 1615884936115,
     "user": {
      "displayName": "stanCode標準程式教育機構",
      "photoUrl": "https://lh3.googleusercontent.com/a-/AOh14GhEXNEf8CuikK9lo_S6uoGBFySnbTpVXF0hGf8r=s64",
      "userId": "17922542024282624619"
     },
     "user_tz": -480
    },
    "id": "ErEUK681PiMk",
    "outputId": "405d03e3-d614-455b-96c0-948446f6e977"
   },
   "outputs": [],
   "source": [
    "# See if GPU is available\n",
    "# To turn GPU on: Edit -> Notebook Setting -> GPU\n",
    "\n",
    "import torch\n",
    "\n",
    "USE_GPU = True\n",
    "if USE_GPU and torch.cuda.is_available():\n",
    "    device = torch.device('cuda')\n",
    "else:\n",
    "    device = torch.device('cpu')\n",
    "print('using device:', device)"
   ]
  },
  {
   "cell_type": "code",
   "execution_count": null,
   "metadata": {
    "id": "GpzfDw9rPwlM"
   },
   "outputs": [],
   "source": []
  },
  {
   "cell_type": "code",
   "execution_count": null,
   "metadata": {
    "id": "3_WwCc9_QBoU"
   },
   "outputs": [],
   "source": [
    "\"\"\"\n",
    "Plot some training data! \n",
    "We need to denormalize PyTorch Tensor first, \n",
    "and then change it to images with RGB channel\n",
    "\"\"\"\n",
    "\n",
    "import matplotlib.pyplot as plt\n",
    "import numpy as np\n",
    "\n",
    "%matplotlib inline\n",
    "classes = ['cat','dog']\n",
    "\n",
    "# Reverse the normalized value to 0-255\n",
    "def denormalize(image):\n",
    "  image = T.Normalize(-mean/std,1/std)(image) #denormalize\n",
    "  image = image.permute(1,2,0) #Changing from 3x224x224 to 224x224x3\n",
    "  image = torch.clamp(image,0,1)\n",
    "  return image\n",
    "\n",
    "# Display an image\n",
    "def imshow(img):\n",
    "    img = denormalize(img) \n",
    "    plt.imshow(img)\n",
    "\n",
    "dataiter = iter(mini_trains)\n",
    "images, labels = dataiter.next()\n",
    "# plot the images in the batch, along with the corresponding labels\n",
    "fig = plt.figure(figsize=(25, 8))\n",
    "# display 20 images\n",
    "for idx in np.arange(20):\n",
    "    ax = fig.add_subplot(2, 20/2, idx+1, xticks=[], yticks=[])\n",
    "    imshow(images[idx])\n",
    "    ax.set_title(\"{} \".format( classes[labels[idx]]))"
   ]
  },
  {
   "cell_type": "code",
   "execution_count": null,
   "metadata": {
    "id": "hKnmLrqmQBqx"
   },
   "outputs": [],
   "source": [
    "import torch.nn as nn"
   ]
  },
  {
   "cell_type": "code",
   "execution_count": null,
   "metadata": {
    "id": "_ZpztZtDSLk3"
   },
   "outputs": [],
   "source": [
    "model = nn.Sequential(\n",
    "    # Your Model Here\n",
    "    ##################\n",
    "    #                #\n",
    "    #      TODO:     #\n",
    "    #                #      \n",
    "    ##################\n",
    "    pass\n",
    ")"
   ]
  },
  {
   "cell_type": "code",
   "execution_count": null,
   "metadata": {
    "id": "QWuPkG9DSTWx"
   },
   "outputs": [],
   "source": [
    "from torchsummary import summary\n",
    "summary(model.cuda(), (3, 64, 64))"
   ]
  },
  {
   "cell_type": "code",
   "execution_count": null,
   "metadata": {
    "id": "1dzDfQsfSTqN"
   },
   "outputs": [],
   "source": []
  },
  {
   "cell_type": "code",
   "execution_count": null,
   "metadata": {
    "id": "Eh1oH6GXStn4"
   },
   "outputs": [],
   "source": [
    "import torch.optim as optim\n",
    "learning_rate = 1e-4"
   ]
  },
  {
   "cell_type": "code",
   "execution_count": null,
   "metadata": {
    "id": "FHHqKpccD9k2"
   },
   "outputs": [],
   "source": [
    "# Choose your optimizer\n",
    "##################\n",
    "#                #\n",
    "#      TODO:     #\n",
    "#                #      \n",
    "##################"
   ]
  },
  {
   "cell_type": "code",
   "execution_count": null,
   "metadata": {
    "id": "aUR8EEEzD9n7"
   },
   "outputs": [],
   "source": [
    "\"\"\"\n",
    "Training Process begins!\n",
    "We will be using your model and optimizer to \n",
    "call forward pass / backward pass.\n",
    "However, which loss function should you choose?\n",
    "Let's try out! You will see the difference between different loss function in decreasing training cost\n",
    "\"\"\""
   ]
  },
  {
   "cell_type": "code",
   "execution_count": null,
   "metadata": {
    "id": "eYZLBcR9D9rO"
   },
   "outputs": [],
   "source": [
    "def train(model, optimizer, epochs=1):\n",
    "  for epoch in range(epochs):\n",
    "    print('----------------------------')\n",
    "    print('EPOCH: {}'.format(epoch+1))\n",
    "    for t, (x, y) in enumerate(mini_trains):  \n",
    "      # Turn on the training mode on your model\n",
    "      model.train()\n",
    "      # move tensors to GPU if CUDA is available\n",
    "      x = x.to(device)\n",
    "      y = y.to(device)\n",
    "\n",
    "      # forward pass: compute predicted outputs by passing inputs to the model\n",
    "      scores = model(x)\n",
    "      \n",
    "      # calculate the batch loss\n",
    "      # Choose your loss function!\n",
    "      loss_function = nn.CrossEntropyLoss()\n",
    "      loss = loss_function(scores, y)\n",
    "\n",
    "      # clear the gradients of all optimized variables\n",
    "      optimizer.zero_grad()\n",
    "\n",
    "      loss.backward()\n",
    "\n",
    "      # perform a single optimization step (parameter update)\n",
    "      optimizer.step()\n",
    "\n",
    "      if t % 7 == 0:\n",
    "        print('Iteration %d, loss = %.4f' % (t, loss.item()))\n",
    "        evaluate_predictor(mini_vals, model)"
   ]
  },
  {
   "cell_type": "code",
   "execution_count": null,
   "metadata": {
    "id": "1pqWMWypEg4q"
   },
   "outputs": [],
   "source": [
    "def evaluate_predictor(loader, model):\n",
    "  # Turn on evaluation mode on your model\n",
    "  model.eval()\n",
    "  val_loss = 0\n",
    "  val_acc = 0\n",
    "  with torch.no_grad():\n",
    "    for x, y in loader:\n",
    "      # move tensors to GPU if CUDA is available\n",
    "      x = x.to(device)\n",
    "      y = y.to(device)\n",
    "      # forward pass: compute predicted outputs by passing inputs to the model\n",
    "      scores = model(x)\n",
    "      \n",
    "      # Choose your loss function!\n",
    "      loss_function = nn.CrossEntropyLoss()\n",
    "      loss = loss_function(scores, y)\n",
    "\n",
    "      val_loss += loss.item()*x.size(0)\n",
    "      prediction = scores.data.max(1)[1]\n",
    "      acc = prediction.eq(y).sum().item()\n",
    "      val_acc += acc\n",
    "\n",
    "    # calculate average losses\n",
    "    val_loss = val_loss / len(mini_vals.dataset)\n",
    "    val_acc = val_acc / len(mini_vals.dataset)\n",
    "    print(f'Loss: {val_loss} / Acc: {val_acc}')"
   ]
  },
  {
   "cell_type": "code",
   "execution_count": null,
   "metadata": {
    "id": "EB8h0ehBFHP6"
   },
   "outputs": [],
   "source": [
    "train(model, optimizer, epochs=6)"
   ]
  },
  {
   "cell_type": "code",
   "execution_count": null,
   "metadata": {
    "id": "cBlZqCjbItLH"
   },
   "outputs": [],
   "source": []
  }
 ],
 "metadata": {
  "accelerator": "GPU",
  "colab": {
   "authorship_tag": "ABX9TyMBvzEze6xoJN6RV71guVz4",
   "name": "CNN_cat_dog.ipynb",
   "provenance": []
  },
  "kernelspec": {
   "display_name": "Python 3",
   "language": "python",
   "name": "python3"
  },
  "language_info": {
   "codemirror_mode": {
    "name": "ipython",
    "version": 3
   },
   "file_extension": ".py",
   "mimetype": "text/x-python",
   "name": "python",
   "nbconvert_exporter": "python",
   "pygments_lexer": "ipython3",
   "version": "3.8.5"
  }
 },
 "nbformat": 4,
 "nbformat_minor": 1
}
