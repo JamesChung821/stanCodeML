{
 "cells": [
  {
   "cell_type": "code",
   "execution_count": 1,
   "metadata": {},
   "outputs": [],
   "source": [
    "#  File: linear_regression_quadratic_equation.ipynb\n",
    "#  ----------------------------\n",
    "#  This file shows student the fundamental concepts of \n",
    "#  machine learing:\n",
    "#      - loss function\n",
    "#      - cost function\n",
    "#      - linear regression\n",
    "#      - polynomial function\n",
    "#      - training process"
   ]
  },
  {
   "cell_type": "code",
   "execution_count": 2,
   "metadata": {},
   "outputs": [],
   "source": [
    "import matplotlib.pyplot as plt\n",
    "import numpy as np"
   ]
  },
  {
   "cell_type": "code",
   "execution_count": 3,
   "metadata": {},
   "outputs": [],
   "source": [
    "# This function computes the L2 loss of all data with respect to \n",
    "# the hypothesis function \n",
    "# y = theta_prime*x^2+theta*x+b\n",
    "# ----------------------------------------\n",
    "# ∑ [(theta_prime*x_i^2+theta*x_i+b - y_i)^2] / 2*m \n",
    "# ----------------------------------------\n",
    "\n",
    "# theta_prime: float, parameter of x^2 of the line\n",
    "# theta: float, parameter of x of the line\n",
    "# b: float, parameter of the line\n",
    "# x_list: list, containing 21 data points\n",
    "# y_list: list, containing 21 data points\n",
    "# return: float, the sum over all L2 loss of data points\n",
    "\n",
    "def cost_function(theta_prime, theta, b, x, y):\n",
    "    return sum((theta_prime * x[i]**2 + theta * x[i] + b - y[i])**2 for i in range(len(x)))/2/len(x)\n",
    "    ###################\n",
    "    #                 #\n",
    "    #       TODO      #\n",
    "    #                 #\n",
    "    ###################  "
   ]
  },
  {
   "cell_type": "code",
   "execution_count": 4,
   "metadata": {},
   "outputs": [
    {
     "name": "stdout",
     "output_type": "stream",
     "text": [
      "2.4583333333333335\n"
     ]
    }
   ],
   "source": [
    "# You should see 2.4583333333333335  \n",
    "print(cost_function(0.5, 0.5, 0.5, [1, 2, 3], [1, 2, 3]))"
   ]
  },
  {
   "cell_type": "code",
   "execution_count": 5,
   "metadata": {},
   "outputs": [],
   "source": [
    "# This function computes the derivative of J with respect to theta_prime which is \n",
    "# ----------------------------------------\n",
    "# ∑ ((theta_prime*(x**2)+theta*x+b)-y)*(x**2) / m\n",
    "# ----------------------------------------\n",
    "\n",
    "# theta_prime: float, parameter of x^2 of the line\n",
    "# theta: float, parameter of x of the line\n",
    "# b: float, parameter of the line\n",
    "# x_list: list, containing 21 data points\n",
    "# y_list: list, containing 21 data points\n",
    "# return: float, the derivative of J with respect to theta_prime\n",
    "\n",
    "def dJ_dtheta_prime(theta_prime, theta, b, x, y):\n",
    "    return sum((theta_prime * x[i]**2 + theta * x[i] + b - y[i])*x[i]**2 for i in range(len(x)))/len(x)\n",
    "    ###################\n",
    "    #                 #\n",
    "    #       TODO      #\n",
    "    #                 #\n",
    "    ###################  "
   ]
  },
  {
   "cell_type": "code",
   "execution_count": 6,
   "metadata": {},
   "outputs": [
    {
     "name": "stdout",
     "output_type": "stream",
     "text": [
      "12.666666666666666\n"
     ]
    }
   ],
   "source": [
    "# You should see 12.666666666666666\n",
    "print(dJ_dtheta_prime(0.5, 0.5, 0.5, [1, 2, 3], [1, 2, 3]))"
   ]
  },
  {
   "cell_type": "code",
   "execution_count": 7,
   "metadata": {},
   "outputs": [],
   "source": [
    "# This function computes the derivative of J with respect to theta which is \n",
    "# ----------------------------------------\n",
    "# ∑ ((theta_prime*(x**2)+theta*x+b)-y)*(x) / m\n",
    "# ----------------------------------------\n",
    "\n",
    "# theta_prime: float, parameter of x^2 of the line\n",
    "# theta: float, parameter of x of the line\n",
    "# b: float, parameter of the line\n",
    "# x_list: list, containing 21 data points\n",
    "# y_list: list, containing 21 data points\n",
    "# return: float, the derivative of J with respect to theta\n",
    "\n",
    "def dJ_dtheta(theta_prime, theta, b, x, y):\n",
    "    return sum((theta_prime * x[i]**2 + theta * x[i] + b - y[i])*x[i] for i in range(len(x)))/len(x)\n",
    "    ###################\n",
    "    #                 #\n",
    "    #       TODO      #\n",
    "    #                 #\n",
    "    ###################  "
   ]
  },
  {
   "cell_type": "code",
   "execution_count": 8,
   "metadata": {},
   "outputs": [
    {
     "name": "stdout",
     "output_type": "stream",
     "text": [
      "4.666666666666667\n"
     ]
    }
   ],
   "source": [
    "# You should see 4.666666666666667\n",
    "print(dJ_dtheta(0.5, 0.5, 0.5, [1, 2, 3], [1, 2, 3]))"
   ]
  },
  {
   "cell_type": "code",
   "execution_count": null,
   "metadata": {},
   "outputs": [],
   "source": []
  },
  {
   "cell_type": "code",
   "execution_count": 9,
   "metadata": {},
   "outputs": [],
   "source": [
    "# This function computes the derivative of J with respect to b which is \n",
    "# ----------------------------------------\n",
    "# ∑ ((theta_prime*(x**2)+theta*x+b)-y) / m\n",
    "# ----------------------------------------\n",
    "\n",
    "# theta_prime: float, parameter of x^2 of the line\n",
    "# theta: float, parameter of x of the line\n",
    "# b: float, parameter of the line\n",
    "# x_list: list, containing 21 data points\n",
    "# y_list: list, containing 21 data points\n",
    "# return: float, the derivative of J with respect to b\n",
    "\n",
    "def dJ_db(theta_prime, theta, b, x, y):\n",
    "    return sum((theta_prime * x[i]**2 + theta * x[i] + b - y[i]) for i in range(len(x)))/len(x)\n",
    "    ###################\n",
    "    #                 #\n",
    "    #       TODO      #\n",
    "    #                 #\n",
    "    ###################  "
   ]
  },
  {
   "cell_type": "code",
   "execution_count": 10,
   "metadata": {},
   "outputs": [
    {
     "name": "stdout",
     "output_type": "stream",
     "text": [
      "1.8333333333333333\n"
     ]
    }
   ],
   "source": [
    "# You should see 1.8333333333333333\n",
    "print(dJ_db(0.5, 0.5, 0.5, [1, 2, 3], [1, 2, 3]))"
   ]
  },
  {
   "cell_type": "code",
   "execution_count": null,
   "metadata": {},
   "outputs": [],
   "source": []
  },
  {
   "cell_type": "code",
   "execution_count": 11,
   "metadata": {},
   "outputs": [],
   "source": [
    "# ---------- DO NOT EDIT THE CODE BELOW THIS LINE ---------- #"
   ]
  },
  {
   "cell_type": "code",
   "execution_count": 12,
   "metadata": {},
   "outputs": [],
   "source": [
    "x = [6.1101,5.5277,8.5186,7.0032,5.8598,8.3829,7.4764,8.5781,6.4862,5.0546,5.7107,10.164,5.734,8.4084,5.6407,5.3794,6.3654,5.1301,6.4296,7.0708,6.1891]"
   ]
  },
  {
   "cell_type": "code",
   "execution_count": 13,
   "metadata": {},
   "outputs": [],
   "source": [
    "y = [6.592,9.1302,13.662,11.854,6.8233,11.886,4.3483,12,6.5987,3.8166,3.2522,15.505,3.1551,7.2258,0.71618,3.5129,5.3048,0.56077,3.6518,5.3893,3.1386]"
   ]
  },
  {
   "cell_type": "code",
   "execution_count": 14,
   "metadata": {},
   "outputs": [],
   "source": [
    "# ---------- Showing your data ---------- #"
   ]
  },
  {
   "cell_type": "code",
   "execution_count": 15,
   "metadata": {},
   "outputs": [
    {
     "data": {
      "text/plain": [
       "(0.0, 30.0)"
      ]
     },
     "execution_count": 15,
     "metadata": {},
     "output_type": "execute_result"
    },
    {
     "data": {
      "image/png": "[encoded data removed]",
      "text/plain": [
       "<Figure size 432x288 with 1 Axes>"
      ]
     },
     "metadata": {
      "needs_background": "light"
     },
     "output_type": "display_data"
    }
   ],
   "source": [
    "plt.scatter(x, y)\n",
    "axes = plt.gca()\n",
    "axes.set_xlim([0,12])\n",
    "axes.set_ylim([0,30])"
   ]
  },
  {
   "cell_type": "code",
   "execution_count": 16,
   "metadata": {},
   "outputs": [],
   "source": [
    "# ---------- Initialize your theta ---------- #"
   ]
  },
  {
   "cell_type": "code",
   "execution_count": 17,
   "metadata": {},
   "outputs": [],
   "source": [
    "theta_prime = 0.5\n",
    "theta = -0.5\n",
    "b = - 0.5"
   ]
  },
  {
   "cell_type": "code",
   "execution_count": 18,
   "metadata": {},
   "outputs": [],
   "source": [
    "# ---------- Initialize your alpha ---------- #"
   ]
  },
  {
   "cell_type": "code",
   "execution_count": 19,
   "metadata": {},
   "outputs": [],
   "source": [
    "# TODO: which value is appropriate for an ideal alpha?"
   ]
  },
  {
   "cell_type": "code",
   "execution_count": 20,
   "metadata": {},
   "outputs": [],
   "source": [
    "alpha = 0.01"
   ]
  },
  {
   "cell_type": "code",
   "execution_count": 21,
   "metadata": {},
   "outputs": [],
   "source": [
    "# ---------- Training process ---------- #\n",
    "# ---- 11 iterations over all data ----- #"
   ]
  },
  {
   "cell_type": "code",
   "execution_count": 22,
   "metadata": {},
   "outputs": [],
   "source": [
    "theta_prime_history = []\n",
    "theta_history = []\n",
    "b_history = []\n",
    "cost_history = []\n",
    "for i in range(11):\n",
    "    theta_prime_history.append(theta_prime)\n",
    "    theta_history.append(theta)\n",
    "    b_history.append(b)\n",
    "    cost_history.append(cost_function(theta_prime, theta, b, x, y))\n",
    "    \n",
    "    theta_prime = theta_prime - alpha * dJ_dtheta_prime(theta_prime, theta, b, x, y)\n",
    "    theta = theta - alpha * dJ_dtheta(theta_prime, theta, b, x, y)\n",
    "    b = b - alpha * dJ_db(theta_prime, theta, b, x, y)\n",
    "    ###################\n",
    "    #                 #\n",
    "    #       TODO      #\n",
    "    #                 #\n",
    "    ###################  "
   ]
  },
  {
   "cell_type": "code",
   "execution_count": 23,
   "metadata": {},
   "outputs": [],
   "source": [
    "# ---------- Theta changes during training process ---------- #"
   ]
  },
  {
   "cell_type": "code",
   "execution_count": 24,
   "metadata": {},
   "outputs": [
    {
     "name": "stdout",
     "output_type": "stream",
     "text": [
      "[106.19124936108533, 19762.463352204395, 3659614.4789891383, 680314386.5367597, 126436646683.20047, 23498718310452.84, 4367318078189194.5, 8.116812447927515e+17, 1.5085377962379162e+20, 2.8036699114488086e+22, 5.210717949337309e+24]\n"
     ]
    }
   ],
   "source": [
    "print(cost_history)"
   ]
  },
  {
   "cell_type": "code",
   "execution_count": 25,
   "metadata": {},
   "outputs": [
    {
     "data": {
      "text/plain": [
       "Text(0.5, 1.0, 'Errors over iterations')"
      ]
     },
     "execution_count": 25,
     "metadata": {},
     "output_type": "execute_result"
    },
    {
     "data": {
      "image/png": "[encoded data removed]",
      "text/plain": [
       "<Figure size 432x288 with 1 Axes>"
      ]
     },
     "metadata": {
      "needs_background": "light"
     },
     "output_type": "display_data"
    }
   ],
   "source": [
    "cost_x = list(range(len(cost_history)))\n",
    "cost_y = cost_history\n",
    "plt.plot(cost_x, cost_y)\n",
    "plt.title(\"Errors over iterations\", color = 'blue')"
   ]
  },
  {
   "cell_type": "code",
   "execution_count": null,
   "metadata": {},
   "outputs": [],
   "source": []
  },
  {
   "cell_type": "code",
   "execution_count": 26,
   "metadata": {},
   "outputs": [],
   "source": [
    "# ----------------- Normaliza Your Data ----------------- #"
   ]
  },
  {
   "cell_type": "code",
   "execution_count": 27,
   "metadata": {},
   "outputs": [],
   "source": [
    "x_max = max(x)\n",
    "x_min = min(x)\n",
    "x = list((x[i]-x_min)/(x_max-x_min) for i in range(len(x)))\n",
    "###################\n",
    "#                 #\n",
    "#       TODO      #\n",
    "#                 #\n",
    "###################  "
   ]
  },
  {
   "cell_type": "code",
   "execution_count": 28,
   "metadata": {},
   "outputs": [],
   "source": [
    "y_max = max(y)\n",
    "y_min = min(y)\n",
    "y = list((y[i]-y_min)/(y_max-y_min) for i in range(len(y)))\n",
    "###################\n",
    "#                 #\n",
    "#       TODO      #\n",
    "#                 #\n",
    "###################  "
   ]
  },
  {
   "cell_type": "code",
   "execution_count": 29,
   "metadata": {},
   "outputs": [],
   "source": [
    "# ---------- Showing your data ---------- #"
   ]
  },
  {
   "cell_type": "code",
   "execution_count": 30,
   "metadata": {},
   "outputs": [
    {
     "data": {
      "text/plain": [
       "(0.0, 1.8)"
      ]
     },
     "execution_count": 30,
     "metadata": {},
     "output_type": "execute_result"
    },
    {
     "data": {
      "image/png": "[encoded data removed]",
      "text/plain": [
       "<Figure size 432x288 with 1 Axes>"
      ]
     },
     "metadata": {
      "needs_background": "light"
     },
     "output_type": "display_data"
    }
   ],
   "source": [
    "plt.scatter(x, y)\n",
    "axes = plt.gca()\n",
    "axes.set_xlim([-1,1.5])\n",
    "axes.set_ylim([0,1.8])"
   ]
  },
  {
   "cell_type": "code",
   "execution_count": 31,
   "metadata": {},
   "outputs": [],
   "source": [
    "# ---------- Initialize your theta ---------- #"
   ]
  },
  {
   "cell_type": "code",
   "execution_count": 32,
   "metadata": {},
   "outputs": [],
   "source": [
    "theta_prime = 0.5\n",
    "theta = -0.5\n",
    "b = - 0.5"
   ]
  },
  {
   "cell_type": "code",
   "execution_count": 33,
   "metadata": {},
   "outputs": [],
   "source": [
    "# ---------- Initialize your alpha ---------- #"
   ]
  },
  {
   "cell_type": "code",
   "execution_count": 34,
   "metadata": {},
   "outputs": [],
   "source": [
    "alpha = 0.1"
   ]
  },
  {
   "cell_type": "code",
   "execution_count": 35,
   "metadata": {},
   "outputs": [],
   "source": [
    "# ---------- Training process ---------- #\n",
    "# ---- 11 iterations over all data ----- #"
   ]
  },
  {
   "cell_type": "code",
   "execution_count": 36,
   "metadata": {},
   "outputs": [],
   "source": [
    "theta_prime_history = []\n",
    "theta_history = []\n",
    "b_history = []\n",
    "cost_history = []\n",
    "for i in range(110):\n",
    "    theta_prime_history.append(theta_prime)\n",
    "    theta_history.append(theta)\n",
    "    b_history.append(b)\n",
    "    cost_history.append(cost_function(theta_prime, theta, b, x, y))\n",
    "    \n",
    "    theta_prime = theta_prime - alpha * dJ_dtheta_prime(theta_prime, theta, b, x, y)\n",
    "    theta = theta - alpha * dJ_dtheta(theta_prime, theta, b, x, y)\n",
    "    b = b - alpha * dJ_db(theta_prime, theta, b, x, y)\n",
    "    ###################\n",
    "    #                 #\n",
    "    #       TODO      #\n",
    "    #                 #\n",
    "    ###################  "
   ]
  },
  {
   "cell_type": "code",
   "execution_count": 37,
   "metadata": {},
   "outputs": [],
   "source": [
    "# ---------- Theta changes during training process ---------- #"
   ]
  },
  {
   "cell_type": "code",
   "execution_count": 38,
   "metadata": {},
   "outputs": [
    {
     "name": "stdout",
     "output_type": "stream",
     "text": [
      "[0.519911756444309, 0.4127240248891512, 0.328505815055044, 0.2623287249617531, 0.21032208531640423, 0.16944592505587439, 0.1373126708850333, 0.1120471195001634, 0.09217646686818146, 0.07654394253846604, 0.06424098198170654, 0.05455395765037888, 0.04692234366289788, 0.04090585985168637, 0.03615866774783905, 0.03240910481512218, 0.02944376817097636, 0.027095014207646602, 0.025231140925424788, 0.02374867717092679, 0.0225663265707985, 0.021620211017374494, 0.020860134792927393, 0.020246650285972993, 0.01974875326922121, 0.019342072632737746, 0.019007448464090256, 0.018729815141037935, 0.018497323987804074, 0.018300654092456077, 0.018132470914464398, 0.017987000975286813, 0.01785969772907194, 0.01774697905444139, 0.017646021005257882, 0.017554595754496367, 0.017470944254140183, 0.017393676167260348, 0.01732169122534543, 0.017254117418181454, 0.017190262408680865, 0.017129575338788682, 0.017071616800314663, 0.017016035221878268, 0.016962548298089335, 0.016910928381594786, 0.016860990989959492, 0.01681258576107145, 0.01676558933351327, 0.016719899740484264, 0.01667543199395669, 0.016632114604964204, 0.01658988684029978, 0.016548696558627007, 0.016508498502581508, 0.016469252949820407, 0.016430924646710178, 0.01639348196463702, 0.016356896231730336, 0.016321141202857263, 0.01628619263865993, 0.016252027970629697, 0.01621862603410562, 0.016185966854932423, 0.0161540314785402, 0.016122801832589843, 0.016092260616201483, 0.016062391210258764, 0.01603317760444275, 0.016004604337563583, 0.015976656448478725, 0.015949319435453725, 0.015922579222269723, 0.01589642212973404, 0.015870834851529313, 0.015845804433556054, 0.01582131825609753, 0.015797364018272846, 0.015773929724352896, 0.015751003671599706, 0.015728574439357768, 0.015706630879180235, 0.015685162105815265, 0.015664157488912367, 0.01564360664533546, 0.015623499431991004, 0.015603825939096861, 0.015584576483831433, 0.015565741604313418, 0.015547312053871705, 0.015529278795571784, 0.01551163299697099, 0.01549436602507956, 0.015477469441507938, 0.015460934997784328, 0.015444754630828481, 0.015428920458570139, 0.015413424775702006, 0.015398260049558462, 0.015383418916112652, 0.015368894176085184, 0.01535467879115867, 0.015340765880292973, 0.015327148716136487, 0.01531382072152937, 0.015300775466094919, 0.015288006662915753, 0.015275508165291666, 0.015263273963576103, 0.01525129818208906]\n"
     ]
    }
   ],
   "source": [
    "print(cost_history)"
   ]
  },
  {
   "cell_type": "code",
   "execution_count": null,
   "metadata": {},
   "outputs": [],
   "source": []
  },
  {
   "cell_type": "code",
   "execution_count": 39,
   "metadata": {},
   "outputs": [
    {
     "data": {
      "text/plain": [
       "Text(0.5, 1.0, 'Errors over iterations')"
      ]
     },
     "execution_count": 39,
     "metadata": {},
     "output_type": "execute_result"
    },
    {
     "data": {
      "image/png": "[encoded data removed]",
      "text/plain": [
       "<Figure size 432x288 with 1 Axes>"
      ]
     },
     "metadata": {
      "needs_background": "light"
     },
     "output_type": "display_data"
    }
   ],
   "source": [
    "cost_x = list(range(len(cost_history)))\n",
    "cost_y = cost_history\n",
    "plt.plot(cost_x, cost_y)\n",
    "plt.title(\"Errors over iterations\", color = 'blue')"
   ]
  },
  {
   "cell_type": "code",
   "execution_count": 40,
   "metadata": {},
   "outputs": [
    {
     "name": "stdout",
     "output_type": "stream",
     "text": [
      "theta_prime: 0.5, theta: -0.5, b: -0.5\n"
     ]
    },
    {
     "data": {
      "image/png": "[encoded data removed]",
      "text/plain": [
       "<Figure size 432x288 with 1 Axes>"
      ]
     },
     "metadata": {
      "needs_background": "light"
     },
     "output_type": "display_data"
    }
   ],
   "source": [
    "theta_prime = theta_prime_history[0]\n",
    "theta = theta_history[0]\n",
    "b = b_history[0]\n",
    "\n",
    "print(f'theta_prime: {theta_prime}, theta: {theta}, b: {b}')\n",
    "\n",
    "x_plot = np.linspace(-1, 1.5, 100)\n",
    "y_plot = theta_prime*(x_plot**2)+theta*(x_plot)+b\n",
    "\n",
    "\n",
    "plt.scatter(x_plot, y_plot, color='red')\n",
    "plt.scatter(x, y, color='blue')\n",
    "\n",
    "\n",
    "# show the plot\n",
    "plt.title(\"0 iterations\", color='red', fontdict = {'fontsize': 20})\n",
    "plt.show()"
   ]
  },
  {
   "cell_type": "code",
   "execution_count": 41,
   "metadata": {},
   "outputs": [
    {
     "name": "stdout",
     "output_type": "stream",
     "text": [
      "theta_prime: 0.5226851238006426, theta: -0.4620470307989005, b: -0.40387066229279955\n"
     ]
    },
    {
     "data": {
      "image/png": "[encoded data removed]",
      "text/plain": [
       "<Figure size 432x288 with 1 Axes>"
      ]
     },
     "metadata": {
      "needs_background": "light"
     },
     "output_type": "display_data"
    }
   ],
   "source": [
    "theta_prime = theta_prime_history[1]\n",
    "theta = theta_history[1]\n",
    "b = b_history[1]\n",
    "\n",
    "print(f'theta_prime: {theta_prime}, theta: {theta}, b: {b}')\n",
    "\n",
    "x_plot = np.linspace(-1, 1.5, 100)\n",
    "y_plot = theta_prime*(x_plot**2)+theta*(x_plot)+b\n",
    "\n",
    "\n",
    "plt.scatter(x_plot, y_plot, color='red')\n",
    "plt.scatter(x, y, color='blue')\n",
    "\n",
    "\n",
    "# show the plot\n",
    "plt.title(\"1 iterations\", color='red', fontdict = {'fontsize': 20})\n",
    "plt.show()"
   ]
  },
  {
   "cell_type": "code",
   "execution_count": 42,
   "metadata": {},
   "outputs": [
    {
     "name": "stdout",
     "output_type": "stream",
     "text": [
      "theta_prime: 0.5430106748797314, theta: -0.4281498758959866, b: -0.31882136167502984\n"
     ]
    },
    {
     "data": {
      "image/png": "[encoded data removed]",
      "text/plain": [
       "<Figure size 432x288 with 1 Axes>"
      ]
     },
     "metadata": {
      "needs_background": "light"
     },
     "output_type": "display_data"
    }
   ],
   "source": [
    "theta_prime = theta_prime_history[2]\n",
    "theta = theta_history[2]\n",
    "b = b_history[2]\n",
    "\n",
    "print(f'theta_prime: {theta_prime}, theta: {theta}, b: {b}')\n",
    "\n",
    "x_plot = np.linspace(-1, 1.5, 100)\n",
    "y_plot = theta_prime*(x_plot**2)+theta*(x_plot)+b\n",
    "\n",
    "\n",
    "plt.scatter(x_plot, y_plot, color='red')\n",
    "plt.scatter(x, y, color='blue')\n",
    "\n",
    "\n",
    "# show the plot\n",
    "plt.title(\"2 iterations\", color='red', fontdict = {'fontsize': 20})\n",
    "plt.show()"
   ]
  },
  {
   "cell_type": "code",
   "execution_count": 43,
   "metadata": {},
   "outputs": [
    {
     "name": "stdout",
     "output_type": "stream",
     "text": [
      "theta_prime: 0.5612424770395583, theta: -0.3978496632448396, b: -0.2435895292388704\n"
     ]
    },
    {
     "data": {
      "image/png": "[encoded data removed]",
      "text/plain": [
       "<Figure size 432x288 with 1 Axes>"
      ]
     },
     "metadata": {
      "needs_background": "light"
     },
     "output_type": "display_data"
    }
   ],
   "source": [
    "theta_prime = theta_prime_history[3]\n",
    "theta = theta_history[3]\n",
    "b = b_history[3]\n",
    "\n",
    "print(f'theta_prime: {theta_prime}, theta: {theta}, b: {b}')\n",
    "\n",
    "x_plot = np.linspace(-1, 1.5, 100)\n",
    "y_plot = theta_prime*(x_plot**2)+theta*(x_plot)+b\n",
    "\n",
    "\n",
    "plt.scatter(x_plot, y_plot, color='red')\n",
    "plt.scatter(x, y, color='blue')\n",
    "\n",
    "\n",
    "# show the plot\n",
    "plt.title(\"3 iterations\", color='red', fontdict = {'fontsize': 20})\n",
    "plt.show()"
   ]
  },
  {
   "cell_type": "code",
   "execution_count": 44,
   "metadata": {},
   "outputs": [
    {
     "name": "stdout",
     "output_type": "stream",
     "text": [
      "theta_prime: 0.5776161306907519, theta: -0.37073971547517115, b: -0.17705630857419982\n"
     ]
    },
    {
     "data": {
      "image/png": "[encoded data removed]",
      "text/plain": [
       "<Figure size 432x288 with 1 Axes>"
      ]
     },
     "metadata": {
      "needs_background": "light"
     },
     "output_type": "display_data"
    }
   ],
   "source": [
    "theta_prime = theta_prime_history[4]\n",
    "theta = theta_history[4]\n",
    "b = b_history[4]\n",
    "\n",
    "print(f'theta_prime: {theta_prime}, theta: {theta}, b: {b}')\n",
    "\n",
    "x_plot = np.linspace(-1, 1.5, 100)\n",
    "y_plot = theta_prime*(x_plot**2)+theta*(x_plot)+b\n",
    "\n",
    "\n",
    "plt.scatter(x_plot, y_plot, color='red')\n",
    "plt.scatter(x, y, color='blue')\n",
    "\n",
    "\n",
    "# show the plot\n",
    "plt.title(\"4 iterations\", color='red', fontdict = {'fontsize': 20})\n",
    "plt.show()"
   ]
  },
  {
   "cell_type": "code",
   "execution_count": 45,
   "metadata": {},
   "outputs": [
    {
     "name": "stdout",
     "output_type": "stream",
     "text": [
      "theta_prime: 0.5923404522936304, theta: -0.34645960985595126, b: -0.11823019937962065\n"
     ]
    },
    {
     "data": {
      "image/png": "[encoded data removed]",
      "text/plain": [
       "<Figure size 432x288 with 1 Axes>"
      ]
     },
     "metadata": {
      "needs_background": "light"
     },
     "output_type": "display_data"
    }
   ],
   "source": [
    "theta_prime = theta_prime_history[5]\n",
    "theta = theta_history[5]\n",
    "b = b_history[5]\n",
    "\n",
    "print(f'theta_prime: {theta_prime}, theta: {theta}, b: {b}')\n",
    "\n",
    "x_plot = np.linspace(-1, 1.5, 100)\n",
    "y_plot = theta_prime*(x_plot**2)+theta*(x_plot)+b\n",
    "\n",
    "\n",
    "plt.scatter(x_plot, y_plot, color='red')\n",
    "plt.scatter(x, y, color='blue')\n",
    "\n",
    "\n",
    "# show the plot\n",
    "plt.title(\"5 iterations\", color='red', fontdict = {'fontsize': 20})\n",
    "plt.show()"
   ]
  },
  {
   "cell_type": "code",
   "execution_count": 46,
   "metadata": {},
   "outputs": [
    {
     "name": "stdout",
     "output_type": "stream",
     "text": [
      "############ Lowest Cost for Model [y = 2.4451083095900437x-4.010927879850494] ############\n",
      "3.0920884827911035\n",
      "\n",
      "\n",
      " ############ Lowest Cost for Model [y=0.809724079978588x**2+-0.01994298462762337x-0.11823019937962065] ############ \n",
      "0.01525129818208906\n",
      "\n",
      "\n",
      "Your model won 😆!!!!\n"
     ]
    }
   ],
   "source": [
    "print('############ Lowest Cost for Model [y = 2.4451083095900437x-4.010927879850494] ############')\n",
    "print(3.0920884827911035)\n",
    "\n",
    "if b > 0:\n",
    "    print(f'\\n\\n ############ Lowest Cost for Model [y={theta_prime_history[-1]}x**2+{theta_history[-1]}x+{b}] ############ ')\n",
    "else:\n",
    "    print(f'\\n\\n ############ Lowest Cost for Model [y={theta_prime_history[-1]}x**2+{theta_history[-1]}x{b}] ############ ')\n",
    "print(cost_history[-1])\n",
    "\n",
    "if cost_history[-1] < 3.0920884827911035:\n",
    "    print('\\n\\nYour model won 😆!!!!')\n",
    "else:\n",
    "    print('\\n\\nOops... You lost 😭 Keep trying!!')"
   ]
  },
  {
   "cell_type": "code",
   "execution_count": 47,
   "metadata": {},
   "outputs": [
    {
     "name": "stdout",
     "output_type": "stream",
     "text": [
      "theta_prime: 0.809724079978588, theta: -0.01994298462762337, b: 0.26983646098884884\n"
     ]
    },
    {
     "data": {
      "image/png": "[encoded data removed]",
      "text/plain": [
       "<Figure size 432x288 with 1 Axes>"
      ]
     },
     "metadata": {
      "needs_background": "light"
     },
     "output_type": "display_data"
    }
   ],
   "source": [
    "theta_prime = theta_prime_history[-1]\n",
    "theta = theta_history[-1]\n",
    "b = b_history[-1]\n",
    "\n",
    "print(f'theta_prime: {theta_prime}, theta: {theta}, b: {b}')\n",
    "\n",
    "x_plot = np.linspace(-1, 1.5, 100)\n",
    "y_plot = theta_prime*(x_plot**2)+theta*(x_plot)+b\n",
    "\n",
    "\n",
    "plt.scatter(x_plot, y_plot, color='red')\n",
    "plt.scatter(x, y, color='blue')\n",
    "\n",
    "\n",
    "# show the plot\n",
    "plt.title(\"Final Model\", color='red', fontdict = {'fontsize': 20})\n",
    "plt.show()"
   ]
  },
  {
   "cell_type": "code",
   "execution_count": null,
   "metadata": {},
   "outputs": [],
   "source": []
  },
  {
   "cell_type": "code",
   "execution_count": null,
   "metadata": {},
   "outputs": [],
   "source": []
  },
  {
   "cell_type": "code",
   "execution_count": null,
   "metadata": {},
   "outputs": [],
   "source": []
  }
 ],
 "metadata": {
  "kernelspec": {
   "display_name": "Python 3",
   "language": "python",
   "name": "python3"
  },
  "language_info": {
   "codemirror_mode": {
    "name": "ipython",
    "version": 3
   },
   "file_extension": ".py",
   "mimetype": "text/x-python",
   "name": "python",
   "nbconvert_exporter": "python",
   "pygments_lexer": "ipython3",
   "version": "3.9.1"
  }
 },
 "nbformat": 4,
 "nbformat_minor": 4
}
