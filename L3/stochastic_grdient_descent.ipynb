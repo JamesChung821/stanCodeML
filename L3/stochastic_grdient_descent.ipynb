{
 "cells": [
  {
   "cell_type": "code",
   "execution_count": 20,
   "metadata": {},
   "outputs": [],
   "source": [
    "#  File: stochastic_gradient_descent.ipynb\n",
    "#  ----------------------------\n",
    "#  This file shows student the fundamental concepts of \n",
    "#  machine learing:\n",
    "#      - loss function\n",
    "#      - linear regression\n",
    "#      - training process"
   ]
  },
  {
   "cell_type": "code",
   "execution_count": 21,
   "metadata": {},
   "outputs": [],
   "source": [
    "import matplotlib.pyplot as plt\n",
    "import numpy as np"
   ]
  },
  {
   "cell_type": "code",
   "execution_count": 22,
   "metadata": {},
   "outputs": [],
   "source": [
    "# This function computes the L2 loss which is \n",
    "# ----------------------------------------\n",
    "# [(theta*x_i+b - y_i)**2]\n",
    "# ----------------------------------------\n",
    "# of data (x_i, y_i) to the line y_i = theta*x_i + b\n",
    "# \n",
    "# theta: float, slop of the line\n",
    "# b: float, the point on y axis intersects with the line when x_i=0\n",
    "# x_i: float, 1 data point\n",
    "# y_i: float, 1 data point\n",
    "# return: float, the L2 loss of 1 data point\n",
    "\n",
    "def loss_function(theta, b, x_i, y_i):\n",
    "    return (theta*x_i + b - y_i)**2"
   ]
  },
  {
   "cell_type": "code",
   "execution_count": 23,
   "metadata": {},
   "outputs": [
    {
     "name": "stdout",
     "output_type": "stream",
     "text": [
      "0.25\n"
     ]
    }
   ],
   "source": [
    "# You should see 0.25\n",
    "print(loss_function(0.5, 1.5, 2, 2))"
   ]
  },
  {
   "cell_type": "code",
   "execution_count": null,
   "metadata": {},
   "outputs": [],
   "source": []
  },
  {
   "cell_type": "code",
   "execution_count": 24,
   "metadata": {},
   "outputs": [],
   "source": [
    "# This function returns the partial derivative of L2 loss function\n",
    "# with respect to theta: \n",
    "# --------------------------------------\n",
    "# 2*(theta*x_i+b - y_i)*x_i\n",
    "# --------------------------------------\n",
    "# theta: float, slop of the line\n",
    "# b: float, the point on y axis intersects with the line when x_i=0\n",
    "# x_i: float, 1 data point\n",
    "# y_i: float, 1 data point\n",
    "# return: float, the dJ_dtheta of 1 data point\n",
    "\n",
    "def dL_dtheta(theta, b, x_i, y_i):\n",
    "    return 2*(theta*x_i + b - y_i)*x_i"
   ]
  },
  {
   "cell_type": "code",
   "execution_count": 25,
   "metadata": {},
   "outputs": [
    {
     "name": "stdout",
     "output_type": "stream",
     "text": [
      "2.0\n"
     ]
    }
   ],
   "source": [
    "# You should see 2.0\n",
    "print(dL_dtheta(0.5, 1.5, 2, 2))"
   ]
  },
  {
   "cell_type": "code",
   "execution_count": null,
   "metadata": {},
   "outputs": [],
   "source": []
  },
  {
   "cell_type": "code",
   "execution_count": 26,
   "metadata": {},
   "outputs": [],
   "source": [
    "# This function returns the partial derivative of L2 loss function\n",
    "# with respect to b: \n",
    "# --------------------------------------\n",
    "# 2*(theta*x_i+b - y_i)\n",
    "# --------------------------------------\n",
    "# theta: float, slop of the line\n",
    "# b: float, the point on y axis intersects with the line when x=0\n",
    "# x_i: float, 1 data point\n",
    "# y_i: float, 1 data point\n",
    "# return: float, the dJ_db of 1 data point\n",
    "\n",
    "def dL_db(theta, b, x_i, y_i):\n",
    "    return 2*(theta*x_i + b - y_i)"
   ]
  },
  {
   "cell_type": "code",
   "execution_count": 27,
   "metadata": {},
   "outputs": [
    {
     "name": "stdout",
     "output_type": "stream",
     "text": [
      "1.0\n"
     ]
    }
   ],
   "source": [
    "# You should see 1.0\n",
    "print(dL_db(0.5, 1.5, 2, 2))"
   ]
  },
  {
   "cell_type": "code",
   "execution_count": null,
   "metadata": {},
   "outputs": [],
   "source": []
  },
  {
   "cell_type": "code",
   "execution_count": 28,
   "metadata": {},
   "outputs": [],
   "source": [
    "# ---------- DO NOT EDIT THE CODE BELOW THIS LINE ---------- #"
   ]
  },
  {
   "cell_type": "code",
   "execution_count": 29,
   "metadata": {},
   "outputs": [],
   "source": [
    "x = [6.1101,5.5277,8.5186,7.0032,5.8598,8.3829,7.4764,8.5781,6.4862,5.0546,5.7107,10.164,5.734,8.4084,5.6407,5.3794,6.3654,5.1301,6.4296,7.0708,6.1891]"
   ]
  },
  {
   "cell_type": "code",
   "execution_count": 30,
   "metadata": {},
   "outputs": [],
   "source": [
    "y = [6.592,9.1302,13.662,11.854,6.8233,11.886,4.3483,12,6.5987,3.8166,3.2522,15.505,3.1551,7.2258,0.71618,3.5129,5.3048,0.56077,3.6518,5.3893,3.1386]"
   ]
  },
  {
   "cell_type": "code",
   "execution_count": 31,
   "metadata": {},
   "outputs": [],
   "source": [
    "# ---------- Showing your data ---------- #"
   ]
  },
  {
   "cell_type": "code",
   "execution_count": 32,
   "metadata": {},
   "outputs": [
    {
     "data": {
      "text/plain": [
       "(0.0, 30.0)"
      ]
     },
     "execution_count": 32,
     "metadata": {},
     "output_type": "execute_result"
    },
    {
     "data": {
      "image/png": "[encoded data removed]",
      "text/plain": [
       "<Figure size 432x288 with 1 Axes>"
      ]
     },
     "metadata": {
      "needs_background": "light"
     },
     "output_type": "display_data"
    }
   ],
   "source": [
    "plt.scatter(x, y)\n",
    "axes = plt.gca()\n",
    "axes.set_xlim([0,12])\n",
    "axes.set_ylim([0,30])"
   ]
  },
  {
   "cell_type": "code",
   "execution_count": 33,
   "metadata": {},
   "outputs": [],
   "source": [
    "# ---------- Initialize your theta ---------- #"
   ]
  },
  {
   "cell_type": "code",
   "execution_count": 34,
   "metadata": {},
   "outputs": [],
   "source": [
    "theta = -1\n",
    "b = 1"
   ]
  },
  {
   "cell_type": "code",
   "execution_count": 35,
   "metadata": {},
   "outputs": [],
   "source": [
    "# ---------- Initialize your alpha ---------- #"
   ]
  },
  {
   "cell_type": "code",
   "execution_count": 36,
   "metadata": {},
   "outputs": [],
   "source": [
    "# TODO: which value is appropriate for an ideal alpha?"
   ]
  },
  {
   "cell_type": "code",
   "execution_count": 37,
   "metadata": {},
   "outputs": [],
   "source": [
    "alpha = 0.01"
   ]
  },
  {
   "cell_type": "code",
   "execution_count": 38,
   "metadata": {},
   "outputs": [],
   "source": [
    "# ---------- Training process ---------- #\n",
    "# ---- 11 epochs over all data ----- #"
   ]
  },
  {
   "cell_type": "code",
   "execution_count": 39,
   "metadata": {},
   "outputs": [],
   "source": [
    "theta_history = []\n",
    "b_history = []\n",
    "loss_history = []\n",
    "# In SGD, we name '1 iteration through all data' as '1 epoch'!\n",
    "for epoch in range(11):\n",
    "    for i in range(len(y)):\n",
    "        theta_history.append(theta)\n",
    "        b_history.append(b)\n",
    "        loss_history.append(loss_function(theta, b, x[i], y[i]))\n",
    "        # Gradient descent will be updated by every data\n",
    "        theta = theta - alpha * dL_dtheta(theta, b, x[i], y[i])\n",
    "        b = b - alpha * dL_db(theta, b, x[i], y[i])\n",
    "        "
   ]
  },
  {
   "cell_type": "code",
   "execution_count": 40,
   "metadata": {},
   "outputs": [],
   "source": [
    "# ---------- Theta changes during training process ---------- #"
   ]
  },
  {
   "cell_type": "code",
   "execution_count": 41,
   "metadata": {},
   "outputs": [
    {
     "name": "stdout",
     "output_type": "stream",
     "text": [
      "[136.93914440999998, 32.420356220385926, 12.48172812985502, 0.727483098247602, 10.782020632262185, 1.2884909910635653, 45.79615195879999, 65.03045147492264, 30.612158946175526, 4.877498181315277, 4.5508680717297185, 83.64884010657427, 127.73920093735639, 7.059988350225563, 13.18286643383832, 2.4515860200287873, 4.139335224134141, 12.532722695850316, 1.1048651881850369, 2.6683982826949983, 2.7509024264527935, 9.672337330237903, 14.463805762024423, 4.808693218137119, 0.08544741566618269, 10.288366363701485, 0.982712593621754, 44.514913004147964, 63.856087245178415, 29.238878689240067, 4.422269607992806, 4.533184812666741, 77.96852750671755, 119.70187717469553, 7.104656665548419, 12.230055989441176, 2.6556964669659595, 3.971458832642771, 12.035355001176969, 0.9836802871356669, 2.5053341365898674, 2.589011933772188, 9.773868230839401, 14.781191539999446, 4.0104057795302746, 0.023366374386926538, 9.86514864655563, 0.7237338624607256, 43.290969673244376, 62.73834124537566, 27.95156149636742, 4.006798217929929, 4.516253364754358, 72.7109014188148, 112.24248563848965, 7.147610685692474, 11.350241250894713, 2.8590169845341493, 3.8137953115874947, 11.568032915844318, 0.8741192679177882, 2.353847135391035, 2.438432659626931, 9.871693108745415, 15.088670267121943, 3.3131429203711753, 0.00036791575953010007, 9.467797360828161, 0.5125891545526658, 42.133717659990154, 61.67613775833501, 26.744748167889774, 3.627764649548819, 4.5000526646019745, 67.84322548924439, 105.31719509745353, 7.188907817111318, 10.537680619874488, 3.0609589086995417, 3.665657182836534, 11.12874591839666, 0.7751651358331454, 2.2130666181454566, 2.298322578252583, 9.965925049284744, 15.386389905174099, 2.7072098944636838, 0.011873081585627937, 9.09456493446945, 0.34428857743904073, 41.03909694547039, 60.666425881009665, 25.612899500104415, 3.2821003891828426, 4.484550045675567, 63.3353850962929, 98.88562551971862, 7.22860680476686, 9.787089757844258, 3.261008478616691, 3.526406982303186, 10.715628865432638, 0.6858864500798819, 2.082189706771771, 2.1679048307489754, 10.056675728130534, 15.674513553519274, 2.1837603247743145, 0.05373259320359443, 8.743831018631743, 0.21429287307927394, 40.00332092938272, 59.706341949242834, 24.55088452508467, 2.9669904615542992, 4.469714389481555, 59.15964526184442, 92.91054999663169, 7.266764760560224, 9.09360582741828, 3.458719494669547, 3.395453350898289, 10.326950957490547, 0.6054302542741469, 1.9604759250313073, 2.04646256954383, 10.14405520430093, 15.953217098067569, 1.7347248323762539, 0.12218959168130106, 8.414092770882249, 0.11847497086724693, 39.02285656899477, 58.79319684522462, 23.553949101547854, 2.67985267505336, 4.455516045615788, 55.29046026599976, 87.3576440758062, 7.303437166141244, 8.452753602610722, 3.6537067675188806, 3.2722475271643017, 9.961105544747666, 0.5330155897935392, 1.8472422502558956, 1.9333342155876734, 10.22817174324884, 16.222687097406382, 1.35274555961017, 0.21384549950839105, 8.103955901525575, 0.053084737215400406, 38.094406032985724, 57.92446423107454, 22.61768698254456, 2.4183185581174986, 4.441926756408702, 51.70429859335923, 82.19525521309143, 7.338677880856701, 7.860414315230258, 3.8456401427726767, 3.1562801147479234, 9.616600730414488, 0.4679275401939472, 1.7418585617016673, 1.8279090950321684, 10.30913166704988, 16.48311888493809, 1.0311161050759918, 0.3256287465190083, 7.812126422182617, 0.014716659227778466, 37.21488975128846, 57.0977696377171, 21.738013162026103, 2.1802158492433446, 4.428919585871971, 48.37948197213139, 77.39419072059975, 7.372539154198251, 7.312797016040106, 4.034239052763045, 3.0470781028208243, 9.29205070833726, 0.4095117634246945, 1.6437434535578799, 1.7296234248309352, 10.387039228963252, 16.734714867662067, 0.7637264273707058, 0.4547661238096777, 7.537403040664464, 0.0002802214032408098, 36.38143075152694, 56.31088034378902, 20.911139318278913, 1.9635524143246381, 4.416468852672856, 45.296037367505015, 72.92752271917742, 7.405071642172562, 6.8064122472344035, 4.219267550924092, 2.944202119316735, 8.986167776421015, 0.3571694720849092, 1.5523603832244042, 1.637956619171262, 10.461996509882797, 16.977683003885797, 0.5450123105923647, 0.598756548738061, 7.278670150677261, 0.006972753987478093, 35.59134018135589, 55.56169598443446, 20.133551186857876, 1.7665014752651167, 4.404550066881345, 42.43556088287491, 68.77040872431807, 7.436324427070769, 6.338047839260802, 4.4005297879465655, 2.847243898469885, 8.69775497217195, 0.3103528251962395, 1.4672141278467987, 1.5524278909148714]\n"
     ]
    }
   ],
   "source": [
    "print(loss_history)"
   ]
  },
  {
   "cell_type": "code",
   "execution_count": 42,
   "metadata": {},
   "outputs": [
    {
     "name": "stdout",
     "output_type": "stream",
     "text": [
      "theta: -1, b = 1\n"
     ]
    },
    {
     "data": {
      "image/png": "[encoded data removed]",
      "text/plain": [
       "<Figure size 432x288 with 1 Axes>"
      ]
     },
     "metadata": {
      "needs_background": "light"
     },
     "output_type": "display_data"
    }
   ],
   "source": [
    "theta = theta_history[0]\n",
    "b = b_history[0]\n",
    "\n",
    "print(f'theta: {theta}, b = {b}')\n",
    "\n",
    "x_plot = np.linspace(0, 12, 140)\n",
    "y_plot = theta*x_plot + b\n",
    "\n",
    "\n",
    "plt.scatter(x_plot, y_plot, s=8, color='red')\n",
    "plt.scatter(x, y, color='blue')\n",
    "\n",
    "plt.title(\"1 data\", color='red', fontdict = {'fontsize': 20})\n",
    "plt.show()"
   ]
  },
  {
   "cell_type": "code",
   "execution_count": 43,
   "metadata": {},
   "outputs": [
    {
     "name": "stdout",
     "output_type": "stream",
     "text": [
      "theta: 0.4300200242000001, b = 1.0592906930027115\n"
     ]
    },
    {
     "data": {
      "image/png": "[encoded data removed]",
      "text/plain": [
       "<Figure size 432x288 with 1 Axes>"
      ]
     },
     "metadata": {
      "needs_background": "light"
     },
     "output_type": "display_data"
    }
   ],
   "source": [
    "theta = theta_history[1]\n",
    "b = b_history[1]\n",
    "\n",
    "print(f'theta: {theta}, b = {b}')\n",
    "\n",
    "x_plot = np.linspace(0, 12, 140)\n",
    "y_plot = theta*x_plot + b\n",
    "\n",
    "\n",
    "plt.scatter(x_plot, y_plot, s=8, color='red')\n",
    "plt.scatter(x, y, color='blue')\n",
    "\n",
    "plt.title(\"2 data\", color='red', fontdict = {'fontsize': 20})\n",
    "plt.show()"
   ]
  },
  {
   "cell_type": "code",
   "execution_count": 44,
   "metadata": {},
   "outputs": [
    {
     "name": "stdout",
     "output_type": "stream",
     "text": [
      "theta: 1.0595020760560163, b = 1.1035766866263605\n"
     ]
    },
    {
     "data": {
      "image/png": "[encoded data removed]",
      "text/plain": [
       "<Figure size 432x288 with 1 Axes>"
      ]
     },
     "metadata": {
      "needs_background": "light"
     },
     "output_type": "display_data"
    }
   ],
   "source": [
    "theta = theta_history[2]\n",
    "b = b_history[2]\n",
    "\n",
    "print(f'theta: {theta}, b = {b}')\n",
    "\n",
    "x_plot = np.linspace(0, 12, 140)\n",
    "y_plot = theta*x_plot + b\n",
    "\n",
    "\n",
    "plt.scatter(x_plot, y_plot, s=8, color='red')\n",
    "plt.scatter(x, y, color='blue')\n",
    "\n",
    "plt.title(\"3 data\", color='red', fontdict = {'fontsize': 20})\n",
    "plt.show()"
   ]
  },
  {
   "cell_type": "code",
   "execution_count": 45,
   "metadata": {},
   "outputs": [
    {
     "name": "stdout",
     "output_type": "stream",
     "text": [
      "theta: 1.661417650865424, b = 1.0716861048805895\n"
     ]
    },
    {
     "data": {
      "image/png": "[encoded data removed]",
      "text/plain": [
       "<Figure size 432x288 with 1 Axes>"
      ]
     },
     "metadata": {
      "needs_background": "light"
     },
     "output_type": "display_data"
    }
   ],
   "source": [
    "theta = theta_history[3]\n",
    "b = b_history[3]\n",
    "\n",
    "print(f'theta: {theta}, b = {b}')\n",
    "\n",
    "x_plot = np.linspace(0, 12, 140)\n",
    "y_plot = theta*x_plot + b\n",
    "\n",
    "\n",
    "plt.scatter(x_plot, y_plot, s=8, color='red')\n",
    "plt.scatter(x, y, color='blue')\n",
    "\n",
    "plt.title(\"4 data\", color='red', fontdict = {'fontsize': 20})\n",
    "plt.show()"
   ]
  },
  {
   "cell_type": "code",
   "execution_count": 46,
   "metadata": {},
   "outputs": [
    {
     "name": "stdout",
     "output_type": "stream",
     "text": [
      "theta: 1.5419533959498033, b = 1.0713602223326644\n"
     ]
    },
    {
     "data": {
      "image/png": "[encoded data removed]",
      "text/plain": [
       "<Figure size 432x288 with 1 Axes>"
      ]
     },
     "metadata": {
      "needs_background": "light"
     },
     "output_type": "display_data"
    }
   ],
   "source": [
    "theta = theta_history[4]\n",
    "b = b_history[4]\n",
    "\n",
    "print(f'theta: {theta}, b = {b}')\n",
    "\n",
    "x_plot = np.linspace(0, 12, 140)\n",
    "y_plot = theta*x_plot + b\n",
    "\n",
    "\n",
    "plt.scatter(x_plot, y_plot, s=8, color='red')\n",
    "plt.scatter(x, y, color='blue')\n",
    "\n",
    "plt.title(\"5 data\", color='red', fontdict = {'fontsize': 20})\n",
    "plt.show()"
   ]
  },
  {
   "cell_type": "code",
   "execution_count": 47,
   "metadata": {},
   "outputs": [
    {
     "name": "stdout",
     "output_type": "stream",
     "text": [
      "theta: 1.1571287589637862, b = 1.0507881558504912\n"
     ]
    },
    {
     "data": {
      "image/png": "[encoded data removed]",
      "text/plain": [
       "<Figure size 432x288 with 1 Axes>"
      ]
     },
     "metadata": {
      "needs_background": "light"
     },
     "output_type": "display_data"
    }
   ],
   "source": [
    "theta = theta_history[5]\n",
    "b = b_history[5]\n",
    "\n",
    "print(f'theta: {theta}, b = {b}')\n",
    "\n",
    "x_plot = np.linspace(0, 12, 140)\n",
    "y_plot = theta*x_plot + b\n",
    "\n",
    "\n",
    "plt.scatter(x_plot, y_plot, s=8, color='red')\n",
    "plt.scatter(x, y, color='blue')\n",
    "\n",
    "plt.title(\"6 data\", color='red', fontdict = {'fontsize': 20})\n",
    "plt.show()"
   ]
  },
  {
   "cell_type": "code",
   "execution_count": 48,
   "metadata": {},
   "outputs": [],
   "source": [
    "# ---------- Plot the errors over the training process ---------- #"
   ]
  },
  {
   "cell_type": "code",
   "execution_count": 49,
   "metadata": {},
   "outputs": [
    {
     "data": {
      "text/plain": [
       "Text(0.5, 1.0, 'Errors over epochs')"
      ]
     },
     "execution_count": 49,
     "metadata": {},
     "output_type": "execute_result"
    },
    {
     "data": {
      "image/png": "[encoded data removed]",
      "text/plain": [
       "<Figure size 432x288 with 1 Axes>"
      ]
     },
     "metadata": {
      "needs_background": "light"
     },
     "output_type": "display_data"
    }
   ],
   "source": [
    "plot_x = list(range(len(loss_history)))\n",
    "plot_y = loss_history\n",
    "plt.plot(plot_x, plot_y)\n",
    "plt.title(\"Errors over epochs\", color = 'blue')"
   ]
  },
  {
   "cell_type": "code",
   "execution_count": 50,
   "metadata": {},
   "outputs": [
    {
     "name": "stdout",
     "output_type": "stream",
     "text": [
      "############ Final equation: y = 1.1394413528117326x+1.0507881558504912 ############\n"
     ]
    }
   ],
   "source": [
    "if b > 0:\n",
    "    print(f'############ Final equation: y = {theta_history[-1]}x+{b} ############')\n",
    "else:\n",
    "    print(f'############ Final equation: y = {theta_history[-1]}x{b} ############')"
   ]
  },
  {
   "cell_type": "code",
   "execution_count": null,
   "metadata": {},
   "outputs": [],
   "source": []
  },
  {
   "cell_type": "code",
   "execution_count": 51,
   "metadata": {},
   "outputs": [
    {
     "name": "stdout",
     "output_type": "stream",
     "text": [
      "theta: 1.1394413528117326, b = -2.667551833964488\n"
     ]
    },
    {
     "data": {
      "image/png": "[encoded data removed]",
      "text/plain": [
       "<Figure size 432x288 with 1 Axes>"
      ]
     },
     "metadata": {
      "needs_background": "light"
     },
     "output_type": "display_data"
    }
   ],
   "source": [
    "theta = theta_history[-1]\n",
    "b = b_history[-1]\n",
    "\n",
    "print(f'theta: {theta}, b = {b}')\n",
    "\n",
    "x_plot = np.linspace(0, 12, 140)\n",
    "y_plot = theta*x_plot + b\n",
    "\n",
    "\n",
    "plt.scatter(x_plot, y_plot, s=8, color='red')\n",
    "plt.scatter(x, y, color='blue')\n",
    "\n",
    "plt.title(\"Final Model\", color='red', fontdict = {'fontsize': 20})\n",
    "plt.show()"
   ]
  },
  {
   "cell_type": "code",
   "execution_count": null,
   "metadata": {},
   "outputs": [],
   "source": []
  },
  {
   "cell_type": "code",
   "execution_count": null,
   "metadata": {},
   "outputs": [],
   "source": []
  }
 ],
 "metadata": {
  "kernelspec": {
   "display_name": "Python 3 (ipykernel)",
   "language": "python",
   "name": "python3"
  },
  "language_info": {
   "codemirror_mode": {
    "name": "ipython",
    "version": 3
   },
   "file_extension": ".py",
   "mimetype": "text/x-python",
   "name": "python",
   "nbconvert_exporter": "python",
   "pygments_lexer": "ipython3",
   "version": "3.9.7"
  }
 },
 "nbformat": 4,
 "nbformat_minor": 4
}
