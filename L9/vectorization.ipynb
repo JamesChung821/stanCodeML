{
 "cells": [
  {
   "cell_type": "code",
   "execution_count": 22,
   "metadata": {},
   "outputs": [],
   "source": [
    "import numpy as np\n",
    "import time"
   ]
  },
  {
   "cell_type": "code",
   "execution_count": null,
   "metadata": {},
   "outputs": [],
   "source": []
  },
  {
   "cell_type": "code",
   "execution_count": 23,
   "metadata": {},
   "outputs": [],
   "source": [
    "# TODO: Use numpy to create 5 arrays:\n",
    "# 1 1D vector\n",
    "# 1 2D array with shape (2, 3)\n",
    "# 1 2D ones array with shape (2, 3)\n",
    "# 1 2D zeros array with shape(2, 3)\n",
    "# 2 2D array with random values"
   ]
  },
  {
   "cell_type": "code",
   "execution_count": 24,
   "metadata": {},
   "outputs": [
    {
     "name": "stdout",
     "output_type": "stream",
     "text": [
      "[1 2 3]\n",
      "(3,)\n"
     ]
    }
   ],
   "source": [
    "# 1D vector\n",
    "# Remember to print its shape\n",
    "vec = np.array([1, 2, 3])\n",
    "print(vec)\n",
    "print(vec.shape)"
   ]
  },
  {
   "cell_type": "code",
   "execution_count": 25,
   "metadata": {},
   "outputs": [
    {
     "name": "stdout",
     "output_type": "stream",
     "text": [
      "[[1 2 3]\n",
      " [4 5 6]]\n",
      "(2, 3)\n"
     ]
    }
   ],
   "source": [
    "# 2D array\n",
    "# Rememebr to print its shape\n",
    "arr = np.array([[1, 2, 3], [4, 5, 6]])\n",
    "print(arr)\n",
    "print(arr.shape)"
   ]
  },
  {
   "cell_type": "code",
   "execution_count": 26,
   "metadata": {},
   "outputs": [
    {
     "name": "stdout",
     "output_type": "stream",
     "text": [
      "[[1. 1. 1.]\n",
      " [1. 1. 1.]]\n",
      "(2, 3)\n"
     ]
    }
   ],
   "source": [
    "# 2D ones array\n",
    "# Remember to print its shape\n",
    "ones = np.ones((2, 3))\n",
    "print(ones)\n",
    "print(ones.shape)"
   ]
  },
  {
   "cell_type": "code",
   "execution_count": 27,
   "metadata": {},
   "outputs": [
    {
     "name": "stdout",
     "output_type": "stream",
     "text": [
      "[[0. 0. 0.]\n",
      " [0. 0. 0.]]\n",
      "(2, 3)\n"
     ]
    }
   ],
   "source": [
    "# 2D zeros array\n",
    "# Remember to print its shape\n",
    "zeros = np.zeros((2, 3))\n",
    "print(zeros)\n",
    "print(zeros.shape)"
   ]
  },
  {
   "cell_type": "code",
   "execution_count": 28,
   "metadata": {},
   "outputs": [
    {
     "name": "stdout",
     "output_type": "stream",
     "text": [
      "[[2. 3. 4.]\n",
      " [5. 6. 7.]]\n",
      "(2, 3)\n"
     ]
    }
   ],
   "source": [
    "# Element-wise Addition\n",
    "add = arr + ones\n",
    "print(add)\n",
    "print(add.shape)"
   ]
  },
  {
   "cell_type": "code",
   "execution_count": 29,
   "metadata": {},
   "outputs": [
    {
     "name": "stdout",
     "output_type": "stream",
     "text": [
      "[[ 2.  6. 12.]\n",
      " [20. 30. 42.]]\n",
      "(2, 3)\n"
     ]
    }
   ],
   "source": [
    "# Element-wise Multiplication\n",
    "mul = arr * add\n",
    "print(mul)\n",
    "print(mul.shape)"
   ]
  },
  {
   "cell_type": "code",
   "execution_count": 30,
   "metadata": {},
   "outputs": [
    {
     "name": "stdout",
     "output_type": "stream",
     "text": [
      "[[20. 38.]\n",
      " [47. 92.]]\n",
      "(2, 2)\n"
     ]
    }
   ],
   "source": [
    "# Dot Product\n",
    "# arr(2, 3) add(2,3), so one of the matirx needs to be transposed\n",
    "dot1 = arr.dot(add.T)\n",
    "dot1 = np.dot(arr, add.T)\n",
    "print(dot1)\n",
    "print(dot1.shape)"
   ]
  },
  {
   "cell_type": "code",
   "execution_count": null,
   "metadata": {},
   "outputs": [],
   "source": []
  },
  {
   "cell_type": "code",
   "execution_count": null,
   "metadata": {},
   "outputs": [],
   "source": []
  },
  {
   "cell_type": "code",
   "execution_count": 31,
   "metadata": {},
   "outputs": [
    {
     "name": "stdout",
     "output_type": "stream",
     "text": [
      "[[0.91681881]\n",
      " [0.83075166]\n",
      " [0.43667868]\n",
      " ...\n",
      " [0.44411162]\n",
      " [0.62558901]\n",
      " [0.5930908 ]]\n"
     ]
    }
   ],
   "source": [
    "# Create 2D array with random values of shape (1000000, 1)\n",
    "rand1 = np.random.rand(1000000, 1)\n",
    "rand2 = np.random.rand(1000000, 1)\n",
    "print(rand1)\n"
   ]
  },
  {
   "cell_type": "code",
   "execution_count": 32,
   "metadata": {},
   "outputs": [],
   "source": [
    "# TODO: Use vectorization to calculate the dot product\n",
    "# call time.time() twice to calculate the total run time "
   ]
  },
  {
   "cell_type": "code",
   "execution_count": 33,
   "metadata": {},
   "outputs": [],
   "source": [
    "begin = time.time()\n",
    "ans1 = rand1.T.dot(rand2)\n",
    "finish = time.time()"
   ]
  },
  {
   "cell_type": "code",
   "execution_count": 34,
   "metadata": {},
   "outputs": [
    {
     "name": "stdout",
     "output_type": "stream",
     "text": [
      "Time: 0.0009980201721191406\n",
      "[[250042.46044397]]\n"
     ]
    }
   ],
   "source": [
    "print('Time:', finish-begin)\n",
    "print(ans1)"
   ]
  },
  {
   "cell_type": "code",
   "execution_count": 35,
   "metadata": {},
   "outputs": [],
   "source": [
    "# TODO: Use for loop to calculate the dot product\n",
    "# call time.time() twice to calculate the total run time "
   ]
  },
  {
   "cell_type": "code",
   "execution_count": 36,
   "metadata": {},
   "outputs": [],
   "source": [
    "start = time.time()\n",
    "ans2 = 0\n",
    "for i in range(rand2.shape[0]):\n",
    "    ans2 += rand1[i][0] * rand2[i][0]\n",
    "end = time.time()"
   ]
  },
  {
   "cell_type": "code",
   "execution_count": 37,
   "metadata": {},
   "outputs": [
    {
     "name": "stdout",
     "output_type": "stream",
     "text": [
      "Time: 0.4989964962005615\n",
      "250042.46044397\n"
     ]
    }
   ],
   "source": [
    "print('Time:', end-start)\n",
    "print(ans2)"
   ]
  },
  {
   "cell_type": "code",
   "execution_count": null,
   "metadata": {},
   "outputs": [],
   "source": []
  }
 ],
 "metadata": {
  "kernelspec": {
   "display_name": "Python 3",
   "language": "python",
   "name": "python3"
  },
  "language_info": {
   "codemirror_mode": {
    "name": "ipython",
    "version": 3
   },
   "file_extension": ".py",
   "mimetype": "text/x-python",
   "name": "python",
   "nbconvert_exporter": "python",
   "pygments_lexer": "ipython3",
   "version": "3.9.1"
  }
 },
 "nbformat": 4,
 "nbformat_minor": 4
}
