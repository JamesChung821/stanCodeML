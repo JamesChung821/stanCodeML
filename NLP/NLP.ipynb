{
 "cells": [
  {
   "cell_type": "code",
   "execution_count": null,
   "metadata": {
    "colab": {
     "base_uri": "https://localhost:8080/"
    },
    "executionInfo": {
     "elapsed": 606204,
     "status": "ok",
     "timestamp": 1623904359390,
     "user": {
      "displayName": "廖揚鴻",
      "photoUrl": "https://lh3.googleusercontent.com/a-/AOh14Gg4iDhtVwRWzPkWIVJc9WO3VEsIfqPiHpDW4SWDpw=s64",
      "userId": "08369432605040471536"
     },
     "user_tz": -480
    },
    "id": "wbI7UfCbsFPA",
    "outputId": "f2efbd11-8bbb-4cce-9321-3b0352be9431"
   },
   "outputs": [],
   "source": [
    "import gensim.downloader as api\n",
    "model = api.load('word2vec-google-news-300')"
   ]
  },
  {
   "cell_type": "code",
   "execution_count": null,
   "metadata": {
    "id": "8TaXuV5esIz8"
   },
   "outputs": [],
   "source": [
    "#1 TODO: Select a word vector and see its shape"
   ]
  },
  {
   "cell_type": "code",
   "execution_count": null,
   "metadata": {
    "colab": {
     "base_uri": "https://localhost:8080/"
    },
    "executionInfo": {
     "elapsed": 264,
     "status": "ok",
     "timestamp": 1623905187813,
     "user": {
      "displayName": "廖揚鴻",
      "photoUrl": "https://lh3.googleusercontent.com/a-/AOh14Gg4iDhtVwRWzPkWIVJc9WO3VEsIfqPiHpDW4SWDpw=s64",
      "userId": "08369432605040471536"
     },
     "user_tz": -480
    },
    "id": "kpPz1JSFsgN6",
    "outputId": "6e4ab0b1-f003-423b-de41-7628268f7756"
   },
   "outputs": [],
   "source": []
  },
  {
   "cell_type": "code",
   "execution_count": null,
   "metadata": {
    "colab": {
     "base_uri": "https://localhost:8080/"
    },
    "executionInfo": {
     "elapsed": 317,
     "status": "ok",
     "timestamp": 1623905432839,
     "user": {
      "displayName": "廖揚鴻",
      "photoUrl": "https://lh3.googleusercontent.com/a-/AOh14Gg4iDhtVwRWzPkWIVJc9WO3VEsIfqPiHpDW4SWDpw=s64",
      "userId": "08369432605040471536"
     },
     "user_tz": -480
    },
    "id": "V02j4t5vsm3k",
    "outputId": "cf82624e-41af-4ad5-d8f7-282502ccaaf6"
   },
   "outputs": [],
   "source": [
    "pairs = [\n",
    "         ('car', 'van'),\n",
    "         ('car', 'truck'), \n",
    "         ('car', 'bicycle'),\n",
    "         ('car', 'vehicle')\n",
    "]"
   ]
  },
  {
   "cell_type": "code",
   "execution_count": null,
   "metadata": {
    "id": "NU3DrNmQlpas"
   },
   "outputs": [],
   "source": [
    "#2 TODO: Find the similarity between pairs"
   ]
  },
  {
   "cell_type": "code",
   "execution_count": null,
   "metadata": {
    "id": "eC8eHHqPlwjf"
   },
   "outputs": [],
   "source": []
  },
  {
   "cell_type": "code",
   "execution_count": null,
   "metadata": {
    "id": "4UTsgZXqlw-9"
   },
   "outputs": [],
   "source": [
    "#3 TODO: Find the top5 similar words to 'code'"
   ]
  },
  {
   "cell_type": "code",
   "execution_count": null,
   "metadata": {
    "colab": {
     "base_uri": "https://localhost:8080/"
    },
    "executionInfo": {
     "elapsed": 737,
     "status": "ok",
     "timestamp": 1623907107193,
     "user": {
      "displayName": "廖揚鴻",
      "photoUrl": "https://lh3.googleusercontent.com/a-/AOh14Gg4iDhtVwRWzPkWIVJc9WO3VEsIfqPiHpDW4SWDpw=s64",
      "userId": "08369432605040471536"
     },
     "user_tz": -480
    },
    "id": "RoVNTzbQTffQ",
    "outputId": "5edfe0d1-c666-492b-f13a-53796d56a2bd"
   },
   "outputs": [],
   "source": []
  },
  {
   "cell_type": "code",
   "execution_count": null,
   "metadata": {
    "id": "apDszYGrl5RM"
   },
   "outputs": [],
   "source": []
  },
  {
   "cell_type": "code",
   "execution_count": null,
   "metadata": {
    "id": "6OyubNOET-y5"
   },
   "outputs": [],
   "source": [
    "def analogy(x1, x2, y1):\n",
    "  result = model.most_similar(positive=[x2, y1], negative=[x1])\n",
    "  return result[0][0]"
   ]
  },
  {
   "cell_type": "code",
   "execution_count": null,
   "metadata": {
    "colab": {
     "base_uri": "https://localhost:8080/",
     "height": 35
    },
    "executionInfo": {
     "elapsed": 475,
     "status": "ok",
     "timestamp": 1623907718810,
     "user": {
      "displayName": "廖揚鴻",
      "photoUrl": "https://lh3.googleusercontent.com/a-/AOh14Gg4iDhtVwRWzPkWIVJc9WO3VEsIfqPiHpDW4SWDpw=s64",
      "userId": "08369432605040471536"
     },
     "user_tz": -480
    },
    "id": "69-Z5vw0cLsF",
    "outputId": "f0091c2f-e381-4cc8-af64-e3175bed6020"
   },
   "outputs": [],
   "source": [
    "analogy('man', 'king', 'woman')"
   ]
  },
  {
   "cell_type": "code",
   "execution_count": null,
   "metadata": {
    "colab": {
     "base_uri": "https://localhost:8080/",
     "height": 35
    },
    "executionInfo": {
     "elapsed": 728,
     "status": "ok",
     "timestamp": 1623907857579,
     "user": {
      "displayName": "廖揚鴻",
      "photoUrl": "https://lh3.googleusercontent.com/a-/AOh14Gg4iDhtVwRWzPkWIVJc9WO3VEsIfqPiHpDW4SWDpw=s64",
      "userId": "08369432605040471536"
     },
     "user_tz": -480
    },
    "id": "CjUL0qlkcOhu",
    "outputId": "c1872473-89d6-4f71-d668-53bcd34c9e4f"
   },
   "outputs": [],
   "source": [
    "analogy('man', 'his', 'woman')"
   ]
  },
  {
   "cell_type": "code",
   "execution_count": null,
   "metadata": {
    "colab": {
     "base_uri": "https://localhost:8080/",
     "height": 35
    },
    "executionInfo": {
     "elapsed": 738,
     "status": "ok",
     "timestamp": 1623907929268,
     "user": {
      "displayName": "廖揚鴻",
      "photoUrl": "https://lh3.googleusercontent.com/a-/AOh14Gg4iDhtVwRWzPkWIVJc9WO3VEsIfqPiHpDW4SWDpw=s64",
      "userId": "08369432605040471536"
     },
     "user_tz": -480
    },
    "id": "KBtTX1NMcOxu",
    "outputId": "d48363f7-bb18-460a-b7f1-b87b2123d29c"
   },
   "outputs": [],
   "source": [
    "analogy('Japan', 'Japanese', 'Taiwan')"
   ]
  },
  {
   "cell_type": "code",
   "execution_count": null,
   "metadata": {
    "colab": {
     "base_uri": "https://localhost:8080/",
     "height": 35
    },
    "executionInfo": {
     "elapsed": 411,
     "status": "ok",
     "timestamp": 1623909683186,
     "user": {
      "displayName": "廖揚鴻",
      "photoUrl": "https://lh3.googleusercontent.com/a-/AOh14Gg4iDhtVwRWzPkWIVJc9WO3VEsIfqPiHpDW4SWDpw=s64",
      "userId": "08369432605040471536"
     },
     "user_tz": -480
    },
    "id": "vOd5calOdBsG",
    "outputId": "636dc565-e9fa-430f-f9dc-79761781e7c1"
   },
   "outputs": [],
   "source": [
    "analogy('tall', 'tallest', 'small')"
   ]
  },
  {
   "cell_type": "code",
   "execution_count": null,
   "metadata": {
    "id": "XSIB0BG1dRyH"
   },
   "outputs": [],
   "source": [
    "import numpy as np\n",
    "from sklearn.decomposition import PCA\n",
    "import matplotlib.pyplot as plt"
   ]
  },
  {
   "cell_type": "code",
   "execution_count": null,
   "metadata": {
    "id": "Ox87_4B9gOEp"
   },
   "outputs": [],
   "source": [
    "def display_pca_scatterplot(model, words, sample=0):\n",
    "  word_vectors = np.array([model[word] for word in words])\n",
    "  two_dim = PCA().fit_transform(word_vectors)[:, :2]\n",
    "\n",
    "  plt.figure(figsize=(6, 6))\n",
    "  plt.scatter(two_dim[:, 0], two_dim[:, 1], edgecolors='k', c='r')\n",
    "\n",
    "  for word, (x, y) in zip(words, two_dim):\n",
    "    plt.text(x+0.05, y+0.05, word)"
   ]
  },
  {
   "cell_type": "code",
   "execution_count": null,
   "metadata": {
    "colab": {
     "base_uri": "https://localhost:8080/",
     "height": 376
    },
    "executionInfo": {
     "elapsed": 313,
     "status": "ok",
     "timestamp": 1623909842348,
     "user": {
      "displayName": "廖揚鴻",
      "photoUrl": "https://lh3.googleusercontent.com/a-/AOh14Gg4iDhtVwRWzPkWIVJc9WO3VEsIfqPiHpDW4SWDpw=s64",
      "userId": "08369432605040471536"
     },
     "user_tz": -480
    },
    "id": "4J0m3WX6gOWS",
    "outputId": "b97309ff-04fa-42ea-af74-7524367692d4"
   },
   "outputs": [],
   "source": [
    "display_pca_scatterplot(model, \n",
    "                        ['Japan', 'Taiwan', \n",
    "                         'coffee', 'tea',\n",
    "                         'happy', 'sad',\n",
    "                         'car', 'van',\n",
    "                         'basketball', 'baseball'])"
   ]
  },
  {
   "cell_type": "code",
   "execution_count": null,
   "metadata": {
    "id": "L21XcYEBgOl1"
   },
   "outputs": [],
   "source": []
  }
 ],
 "metadata": {
  "colab": {
   "authorship_tag": "ABX9TyOb/EFF7+06fwcdhP7AIUQu",
   "name": "NLP.ipynb",
   "provenance": []
  },
  "kernelspec": {
   "display_name": "Python 3",
   "language": "python",
   "name": "python3"
  },
  "language_info": {
   "codemirror_mode": {
    "name": "ipython",
    "version": 3
   },
   "file_extension": ".py",
   "mimetype": "text/x-python",
   "name": "python",
   "nbconvert_exporter": "python",
   "pygments_lexer": "ipython3",
   "version": "3.7.6"
  }
 },
 "nbformat": 4,
 "nbformat_minor": 1
}
